{
  "cells": [
    {
      "cell_type": "markdown",
      "metadata": {
        "id": "EvNqh-WvCq7U"
      },
      "source": [
        "# NAME: HARSHIT CHODVADIYA\n",
        "# ROLL NUMBER: 21BCP122\n",
        "# DIV: 1\n",
        "# G4"
      ]
    },
    {
      "cell_type": "code",
      "execution_count": 2,
      "metadata": {
        "colab": {
          "base_uri": "https://localhost:8080/",
          "height": 0
        },
        "id": "OQb-nJjDBZ3v",
        "outputId": "f0e13945-1181-4a75-eac9-5f433b979330"
      },
      "outputs": [
        {
          "name": "stdout",
          "output_type": "stream",
          "text": [
            "Dog has been created!!\n",
            "Scooby Doo is walking!\n",
            "Brown is color of this dog!\n",
            "Dog has been created!!\n",
            "Tommy is walking!\n",
            "White is color of this dog!\n"
          ]
        }
      ],
      "source": [
        "class Dog:\n",
        "  def __init__( self,n,sc,el,spot ):\n",
        "    self.name = n\n",
        "    self.skinColor = sc\n",
        "    self.earLength = el\n",
        "    self.isSpotted = spot\n",
        "    print(\"Dog has been created!!\")\n",
        "  def walk( self ):\n",
        "    print(\"{0} is walking!\".format(self.name))\n",
        "  def eat( self ):\n",
        "    print(\"{0} is eating!\".format(self.name))\n",
        "  def color(self):\n",
        "    print(\"{0} is color of this dog!\".format(self.skinColor))\n",
        "doggie1 = Dog( 'Scooby Doo', 'Brown', 'short',True )\n",
        "doggie1.walk()\n",
        "doggie1.color()\n",
        "doggie2 = Dog('Tommy', 'White', 'long', False)\n",
        "doggie2.walk()\n",
        "doggie2.color()"
      ]
    },
    {
      "cell_type": "code",
      "execution_count": 3,
      "metadata": {
        "colab": {
          "base_uri": "https://localhost:8080/",
          "height": 0
        },
        "id": "O170Jq48CJ55",
        "outputId": "98f92e44-a7bf-4103-bb08-d414a2e38453"
      },
      "outputs": [
        {
          "name": "stdout",
          "output_type": "stream",
          "text": [
            "John\n",
            "36\n",
            "Hello my name isJohn\n",
            "40\n",
            "p1 age is removed\n"
          ]
        }
      ],
      "source": [
        "class Person:\n",
        "  def __init__(self, name,age):\n",
        "    self.name = name\n",
        "    self.age = age\n",
        "  def myfunc(self):\n",
        "    print(\"Hello my name is\" + self.name)\n",
        "p1 = Person(\"John\", 36)\n",
        "print(p1.name)\n",
        "print(p1.age)\n",
        "p1.myfunc()\n",
        "p1.age = 40\n",
        "print(p1.age)\n",
        "del p1.age\n",
        "del p1\n",
        "print(\"p1 age is removed\")"
      ]
    },
    {
      "cell_type": "code",
      "execution_count": 5,
      "metadata": {
        "colab": {
          "base_uri": "https://localhost:8080/",
          "height": 0
        },
        "id": "HZoB7h8KCXIE",
        "outputId": "870496d3-3994-495e-a07e-df03167ff776"
      },
      "outputs": [
        {
          "name": "stdout",
          "output_type": "stream",
          "text": [
            "Complex number : 5 + i 5\n",
            "Complex number : 2 + i 1\n",
            "Sum of complex number : 7 + i 6\n"
          ]
        }
      ],
      "source": [
        "class Complex:\n",
        "  def __init__(self, real, imaginary):\n",
        "    self.real=real\n",
        "    self.imaginary = imaginary\n",
        "  def add(self, C1, C2):\n",
        "    sum=Complex(0, 0)\n",
        "    sum.real = C1.real + C2.real;\n",
        "    sum.imaginary = C1.imaginary + C2.imaginary;\n",
        "    return sum;\n",
        "C1=Complex(5,5)\n",
        "C2=Complex(2,1)\n",
        "print(\"Complex number :\", C1.real, \"+ i\", (C1.imaginary))\n",
        "print(\"Complex number :\", C2.real, \"+ i\", (C2.imaginary))\n",
        "C3=Complex(0,0)\n",
        "C3=C3.add(C1,C2)\n",
        "print(\"Sum of complex number :\", C3.real, \"+ i\", (C3.imaginary))"
      ]
    }
  ],
  "metadata": {
    "colab": {
      "collapsed_sections": [],
      "name": "Untitled9.ipynb",
      "provenance": []
    },
    "kernelspec": {
      "display_name": "Python 3",
      "name": "python3"
    },
    "language_info": {
      "name": "python"
    }
  },
  "nbformat": 4,
  "nbformat_minor": 0
}
